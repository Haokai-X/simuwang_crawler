{
 "cells": [
  {
   "cell_type": "code",
   "execution_count": null,
   "metadata": {},
   "outputs": [],
   "source": [
    "from selenium import webdriver\n",
    "from bs4 import BeautifulSoup\n",
    "from selenium.webdriver.common.by import By\n",
    "import numpy as np\n",
    "import pandas as pd\n",
    "import time\n",
    "import re\n",
    "from lxml import html\n",
    "from selenium.webdriver.common.action_chains import ActionChains        # 导入鼠标事件库"
   ]
  },
  {
   "cell_type": "markdown",
   "metadata": {},
   "source": [
    "Project步骤：\n",
    "1. 根据给出的用户名、密码、浏览器，登陆排排网\n",
    "2. 逐个搜索出相关基金的信息，进入正确的url\n",
    "3. 搜集整理相关信息，并生成Excel表格\n",
    "\n",
    "*放弃搜集净值数据：加密方式很复杂——每一次刷新都会变化&加密手段和之前不同*"
   ]
  },
  {
   "cell_type": "code",
   "execution_count": null,
   "metadata": {},
   "outputs": [],
   "source": [
    "options = webdriver.ChromeOptions()\n",
    "driver = webdriver.Chrome(options=options)         # 启动驱动器\n",
    "\n",
    "#options = webdriver.EdgeOptions()\n",
    "#driver = webdriver.Edge(options=options)\n",
    "\n",
    "# 谷歌浏览器 79和79版本后防止被检测\n",
    "driver.execute_cdp_cmd(\"Page.addScriptToEvaluateOnNewDocument\", {\n",
    "    \"source\": \"\"\"\n",
    "    Object.defineProperty(navigator, 'webdriver', {\n",
    "      get: () => undefined\n",
    "    })\n",
    "  \"\"\"\n",
    "})\n",
    "\n",
    "# 私募排排网：\n",
    "#url = 'https://www.simuwang.com/user/option'\n",
    "# 黑翼：\n",
    "heiyi_url = 'https://dc.simuwang.com/product/HF00003YPP.html'\n",
    "tldker_url = 'https://dc.simuwang.com/product/HF00009YXJ.html'\n",
    "driver.get(heiyi_url)       # 加载网站\n",
    "\n",
    "driver.find_element(By.XPATH,'//button[@class=\"comp-login-method comp-login-b2\"]').click()      #点击账号密码登录\n",
    "driver.find_element(By.XPATH,'//input[@name=\"username\"]').send_keys('13834596916')              # 输入账号\n",
    "driver.find_element(By.XPATH,'//input[@type=\"password\"]').send_keys('zxcvbnm1')                 # 输入密码\n",
    "driver.find_element(By.XPATH,'//span[@class=\"checkbox\"]').click()                               # 勾选同意协议\n",
    "time.sleep(30) # solved this bug by adding sleep time to make sure the page is loaded\n",
    "driver.find_element(By.XPATH,'//button[@class=\"comp-login-btn\"]').click()                       # 点击登录\n",
    "\n",
    "#time.sleep(15)"
   ]
  },
  {
   "cell_type": "markdown",
   "metadata": {},
   "source": [
    "Obstacles: \n",
    "1. We don't know what is the correct way to find the login button, may be by input id, or something else. \n",
    "2. What are the possible ways to locate?\n",
    "\n",
    "How did I solve them?\n",
    "1. Problems are summarised clearly above.\n",
    "2. Learn how to locate: compare with given code -> find out how they are doing this\n",
    "3. Find location: google how to find the html code for the window -> locate what needed by searching (like commmand + F) -> insert into the code in the right way"
   ]
  },
  {
   "cell_type": "markdown",
   "metadata": {},
   "source": [
    "Mistake：没用遵循源代码的全部指示，没有加 time.sleep(15) ，导致报错！（自以为是）"
   ]
  },
  {
   "cell_type": "code",
   "execution_count": null,
   "metadata": {},
   "outputs": [],
   "source": [
    "time.sleep(30)\n",
    "page = driver.page_source\n",
    "soup = BeautifulSoup(page,'html.parser')"
   ]
  },
  {
   "cell_type": "code",
   "execution_count": null,
   "metadata": {},
   "outputs": [],
   "source": [
    "def strat(soup):\n",
    "    tags = [element.text for element in soup.select(\"div.line2-tag\")]\n",
    "    tags.remove('私募 ')\n",
    "    tags.remove('正在运作 ')\n",
    "\n",
    "    return '、'.join(tags)"
   ]
  },
  {
   "cell_type": "code",
   "execution_count": null,
   "metadata": {},
   "outputs": [],
   "source": [
    "import re\n",
    "\n",
    "output = soup.select(\"div.line3-common.flex-h-center\")\n",
    "next_year = output[2].text\n",
    "\n",
    "def extract_percentage(string):\n",
    "    # The regular expression pattern for a percentage is a number followed by a '%'\n",
    "    pattern = r'\\d+\\.?\\d*%'\n",
    "\n",
    "    # Find all matches of the pattern in the string\n",
    "    matches = re.findall(pattern, string)\n",
    "\n",
    "    # Return the matches\n",
    "    return matches\n",
    "\n",
    "print(type(extract_percentage(next_year)[0]))"
   ]
  },
  {
   "cell_type": "code",
   "execution_count": null,
   "metadata": {},
   "outputs": [],
   "source": [
    "print('a'+'b')"
   ]
  },
  {
   "cell_type": "code",
   "execution_count": null,
   "metadata": {},
   "outputs": [],
   "source": [
    "prod_info = {}\n",
    "\n",
    "# 获取基金名称\n",
    "prod_info['基金名称'] = [soup.select(\"h1.line1-title-name.ellipsis\")[0].text] \n",
    "\n",
    "prod_info['管理人'] = soup.select(\"a.line4-baseinfo-value.blue\")[0].text\n",
    "\n",
    "prod_info['策略'] = strat(soup)\n",
    "\n",
    "output = soup.select(\"div.line3-common.flex-h-center\")\n",
    "this_year = output[1].text\n",
    "all_time = output[2].text\n",
    "\n",
    "if '--' in this_year:\n",
    "    prod_info['今年来收益'] = '--'\n",
    "else:\n",
    "    prod_info['今年来收益'] = extract_percentage(this_year)   # further adjustment is needed\n",
    "\n",
    "prod_info['成立来收益'] = extract_percentage(all_time)  # further adjustment is needed\n",
    "\n",
    "# 其他数据\n",
    "data = list(soup.select(\"span.line4-baseinfo-value\"))[1:]\n",
    "\n",
    "names = ['成立以来年化', '成立来回撤', '成立以来夏普', '基金状态', '成立日期', '基金经理', \n",
    "         '备案编号', '公司管理规模', '今年以来排名']\n",
    "\n",
    "for i in range(len(data)):\n",
    "    prod_info[names[i]] = [data[i].text]\n"
   ]
  },
  {
   "cell_type": "code",
   "execution_count": null,
   "metadata": {},
   "outputs": [],
   "source": [
    "prod_info = pd.DataFrame(prod_info)\n",
    "\n",
    "with pd.ExcelWriter('prod_info.xlsx') as excel_writer:\n",
    "    prod_info.to_excel(excel_writer, sheet_name='Sheet1', index=False)"
   ]
  },
  {
   "cell_type": "code",
   "execution_count": null,
   "metadata": {},
   "outputs": [],
   "source": [
    "print(prod_info)"
   ]
  },
  {
   "cell_type": "code",
   "execution_count": null,
   "metadata": {},
   "outputs": [],
   "source": []
  }
 ],
 "metadata": {
  "kernelspec": {
   "display_name": "ML",
   "language": "python",
   "name": "python3"
  },
  "language_info": {
   "codemirror_mode": {
    "name": "ipython",
    "version": 3
   },
   "file_extension": ".py",
   "mimetype": "text/x-python",
   "name": "python",
   "nbconvert_exporter": "python",
   "pygments_lexer": "ipython3",
   "version": "3.9.17"
  }
 },
 "nbformat": 4,
 "nbformat_minor": 2
}
