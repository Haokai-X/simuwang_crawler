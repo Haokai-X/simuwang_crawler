{
 "cells": [
  {
   "cell_type": "code",
   "execution_count": null,
   "metadata": {},
   "outputs": [],
   "source": [
    "from selenium import webdriver\n",
    "from bs4 import BeautifulSoup\n",
    "from selenium.webdriver.common.by import By\n",
    "import numpy as np\n",
    "import pandas as pd\n",
    "import time\n",
    "import re\n",
    "from lxml import html\n",
    "from selenium.webdriver.common.action_chains import ActionChains"
   ]
  },
  {
   "cell_type": "code",
   "execution_count": null,
   "metadata": {},
   "outputs": [],
   "source": [
    "simuwang_url = 'https://www.simuwang.com/user/option'\n",
    "zixuan_url = 'https://www.simuwang.com/user/option'"
   ]
  },
  {
   "cell_type": "code",
   "execution_count": null,
   "metadata": {},
   "outputs": [],
   "source": [
    "username = '13834596916'\n",
    "password = 'zxcvbnm1'\n",
    "\n",
    "fund_codes = ['SW4663', 'SXW323', 'SVY664', 'SW7404']"
   ]
  },
  {
   "cell_type": "markdown",
   "metadata": {},
   "source": [
    "登陆排排网"
   ]
  },
  {
   "cell_type": "code",
   "execution_count": null,
   "metadata": {},
   "outputs": [],
   "source": [
    "#options = webdriver.ChromeOptions()\n",
    "#driver = webdriver.Chrome(options=options)         # 启动驱动器\n",
    "\n",
    "options = webdriver.EdgeOptions()\n",
    "driver = webdriver.Edge(options=options)\n",
    "#options = webdriver.EdgeOptions()\n",
    "#driver = webdriver.Edge(options=options)\n",
    "\n",
    "# 谷歌浏览器 79和79版本后防止被检测\n",
    "driver.execute_cdp_cmd(\"Page.addScriptToEvaluateOnNewDocument\", {\n",
    "    \"source\": \"\"\"\n",
    "    Object.defineProperty(navigator, 'webdriver', {\n",
    "      get: () => undefined\n",
    "    })\n",
    "  \"\"\"\n",
    "})\n",
    "\n",
    "# 私募排排网：\n",
    "driver.get(simuwang_url)       # 加载网站\n",
    "\n",
    "driver.find_element(By.XPATH,'//button[@class=\"comp-login-method comp-login-b2\"]').click()      #点击账号密码登录\n",
    "driver.find_element(By.XPATH,'//input[@name=\"username\"]').send_keys(username)              # 输入账号\n",
    "driver.find_element(By.XPATH,'//input[@type=\"password\"]').send_keys(password)                 # 输入密码\n",
    "driver.find_element(By.XPATH,'//span[@class=\"checkbox\"]').click()                               # 勾选同意协议\n",
    "time.sleep(30) # solved this bug by adding sleep time to make sure the page is loaded\n",
    "driver.find_element(By.XPATH,'//button[@class=\"comp-login-btn\"]').click()                       # 点击登录"
   ]
  },
  {
   "cell_type": "markdown",
   "metadata": {},
   "source": [
    "搜索指定基金加入自选"
   ]
  },
  {
   "cell_type": "code",
   "execution_count": null,
   "metadata": {},
   "outputs": [],
   "source": [
    "not_found = []\n",
    "\n",
    "for fund in fund_codes:\n",
    "    time.sleep(15)\n",
    "    driver.find_element(By.XPATH,'//input[@id=\"nav_keyword\"]').send_keys(fund)\n",
    "    driver.find_element(By.XPATH,'//button[@class=\"comp-header-submit\"]').click()\n",
    "    time.sleep(30)\n",
    "\n",
    "    try:\n",
    "        driver.find_element(By.XPATH,'//span[@class=\"select\"]').click()\n",
    "    except:\n",
    "        not_found.append(fund)\n",
    "    \n",
    "    time.sleep(5)\n",
    "    if fund != fund_codes[-1]:\n",
    "        driver.get(simuwang_url)\n",
    "\n",
    "if len(not_found) > 0:\n",
    "    funds = '、'.join(not_found)\n",
    "    print(funds + ' 不在私募排排网中！')\n",
    "    "
   ]
  },
  {
   "cell_type": "code",
   "execution_count": null,
   "metadata": {},
   "outputs": [],
   "source": [
    "driver.get(zixuan_url)\n",
    "time.sleep(15)\n",
    "\n",
    "page = driver.page_source\n",
    "soup = BeautifulSoup(page,'html.parser')\n",
    "\n",
    "link_elements = soup.select(\"a[href]\")\n",
    "\n",
    "urls = []\n",
    "for link_element in link_elements:\n",
    "   url = link_element['href']\n",
    "   if \"https://dc.simuwang.com/product\" in url:\n",
    "      urls.append(url)\n",
    "\n",
    "print(np.array(urls))"
   ]
  },
  {
   "cell_type": "markdown",
   "metadata": {},
   "source": [
    "逐个读取数据"
   ]
  },
  {
   "cell_type": "code",
   "execution_count": null,
   "metadata": {},
   "outputs": [],
   "source": [
    "def strat(soup):\n",
    "    tags = [element.text for element in soup.select(\"div.line2-tag\")]\n",
    "    if '私募 ' in tags:\n",
    "        tags.remove('私募 ')\n",
    "    if '正在运作 ' in tags:\n",
    "        tags.remove('正在运作 ')\n",
    "\n",
    "    return '、'.join(tags)\n",
    "\n",
    "def extract_percentage(string):\n",
    "\n",
    "    pattern = r'\\d+\\.?\\d*%'\n",
    "    matches = re.findall(pattern, string)\n",
    "\n",
    "    return matches\n",
    "\n",
    "def output_result(data):\n",
    "    if '--' in data:\n",
    "        return '--'\n",
    "    else:\n",
    "        return extract_percentage(data) "
   ]
  },
  {
   "cell_type": "code",
   "execution_count": null,
   "metadata": {},
   "outputs": [],
   "source": [
    "prod_info = {k:[] for k in ['基金名称', '管理人', '策略', '今年来收益', '成立来收益',\n",
    "                           '成立以来年化', '成立来回撤', '成立以来夏普', '基金状态', \n",
    "                           '成立日期', '基金经理', '备案编号', '公司管理规模', \n",
    "                           '今年以来排名']}\n",
    "\n",
    "for url in urls:\n",
    "    driver.get(url)\n",
    "    time.sleep(30)\n",
    "    page = driver.page_source\n",
    "    soup = BeautifulSoup(page,'html.parser')\n",
    "\n",
    "    # 获取基金名称\n",
    "    prod_info['基金名称'].append(soup.select(\"h1.line1-title-name.ellipsis\")[0].text) \n",
    "    prod_info['管理人'].append(soup.select(\"a.line4-baseinfo-value.blue\")[0].text)\n",
    "    prod_info['策略'].append(strat(soup))\n",
    "\n",
    "    profit = soup.select(\"div.line3-common.flex-h-center\")\n",
    "    this_year_pf = profit[1].text\n",
    "    all_time_pf  = profit[2].text\n",
    "    prod_info['今年来收益'].append(output_result(this_year_pf))\n",
    "    prod_info['成立来收益'].append(output_result(all_time_pf))\n",
    "\n",
    "    # 其他数据\n",
    "    data = list(soup.select(\"span.line4-baseinfo-value\"))[1:]\n",
    "\n",
    "    names = ['成立以来年化', '成立来回撤', '成立以来夏普', '基金状态', '成立日期', \n",
    "             '基金经理', '备案编号', '公司管理规模', '今年以来排名']\n",
    "\n",
    "    for i in range(len(data)):\n",
    "        prod_info[names[i]].append(data[i].text)"
   ]
  },
  {
   "cell_type": "code",
   "execution_count": null,
   "metadata": {},
   "outputs": [],
   "source": [
    "prod_info = pd.DataFrame(prod_info)\n",
    "\n",
    "with pd.ExcelWriter('prod_info.xlsx') as excel_writer:\n",
    "    prod_info.to_excel(excel_writer, sheet_name='Sheet1', index=False)"
   ]
  }
 ],
 "metadata": {
  "kernelspec": {
   "display_name": "ML",
   "language": "python",
   "name": "python3"
  },
  "language_info": {
   "codemirror_mode": {
    "name": "ipython",
    "version": 3
   },
   "file_extension": ".py",
   "mimetype": "text/x-python",
   "name": "python",
   "nbconvert_exporter": "python",
   "pygments_lexer": "ipython3",
   "version": "3.9.17"
  }
 },
 "nbformat": 4,
 "nbformat_minor": 2
}
